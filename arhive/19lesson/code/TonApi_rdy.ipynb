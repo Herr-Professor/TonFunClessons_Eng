{
  "nbformat": 4,
  "nbformat_minor": 0,
  "metadata": {
    "colab": {
      "provenance": []
    },
    "kernelspec": {
      "name": "python3",
      "display_name": "Python 3"
    },
    "language_info": {
      "name": "python"
    }
  },
  "cells": [
    {
      "cell_type": "code",
      "execution_count": null,
      "metadata": {
        "id": "9ziVsdoIgOoO"
      },
      "outputs": [],
      "source": [
        "import requests"
      ]
    },
    {
      "cell_type": "code",
      "source": [
        "import sys\n",
        "'requests' in sys.modules"
      ],
      "metadata": {
        "colab": {
          "base_uri": "https://localhost:8080/"
        },
        "id": "7RiAg--rhQvX",
        "outputId": "0babeff6-15a7-4ba2-8454-a88962a2be1c"
      },
      "execution_count": null,
      "outputs": [
        {
          "output_type": "execute_result",
          "data": {
            "text/plain": [
              "True"
            ]
          },
          "metadata": {},
          "execution_count": 21
        }
      ]
    },
    {
      "cell_type": "code",
      "source": [
        "serverSideKey =''\n",
        "# for key https://t.me/tonapi_bot\n",
        "#serverSideKey ='your serversidekey'\n",
        "headers_data = {'Authorization': 'Bearer ' + serverSideKey }"
      ],
      "metadata": {
        "id": "uZs4ri30hZzX"
      },
      "execution_count": null,
      "outputs": []
    },
    {
      "cell_type": "markdown",
      "source": [
        "Account Info"
      ],
      "metadata": {
        "id": "0ZrpTY8Qhzya"
      }
    },
    {
      "cell_type": "code",
      "source": [
        "# params\n",
        "data = {'account' : 'EQAvmc9oVnOvLFlUAgeNmZNZoKeDg9vTEiAQxNFw-t5mh3m7'}\n",
        "\n",
        "method = 'getInfo'\n",
        "pref= 'account'\n",
        "\n",
        "url = 'https://tonapi.io/v1/{}/{}'.format(pref,method)\n",
        "print(url)\n",
        "response = requests.get(url, params=data, headers=headers_data)\n",
        "print(response.json())"
      ],
      "metadata": {
        "colab": {
          "base_uri": "https://localhost:8080/"
        },
        "id": "ELFe_xB9hzbi",
        "outputId": "0a57081c-2fa2-431e-84b0-d9687a1602ca"
      },
      "execution_count": null,
      "outputs": [
        {
          "output_type": "stream",
          "name": "stdout",
          "text": [
            "https://tonapi.io/v1/account/getInfo\n",
            "{'address': {'bounceable': 'EQAvmc9oVnOvLFlUAgeNmZNZoKeDg9vTEiAQxNFw-t5mh3m7', 'non_bounceable': 'UQAvmc9oVnOvLFlUAgeNmZNZoKeDg9vTEiAQxNFw-t5mhyR-', 'raw': '0:2f99cf685673af2c595402078d999359a0a78383dbd3122010c4d170fade6687'}, 'balance': 863788457462, 'interfaces': None, 'is_scam': False, 'last_update': 33342382000004, 'memo_required': False, 'status': 'uninit'}\n"
          ]
        }
      ]
    },
    {
      "cell_type": "markdown",
      "source": [
        "Transactions from account"
      ],
      "metadata": {
        "id": "6uaN9hDJilBU"
      }
    },
    {
      "cell_type": "code",
      "source": [
        "# params\n",
        "data = {'account' : 'EQAvmc9oVnOvLFlUAgeNmZNZoKeDg9vTEiAQxNFw-t5mh3m7','limit': '1'}\n",
        "\n",
        "method = 'getTransactions'\n",
        "pref= 'blockchain'\n",
        "\n",
        "url = 'https://tonapi.io/v1/{}/{}'.format(pref,method)\n",
        "print(url)\n",
        "response = requests.get(url, params=data, headers=headers_data)\n",
        "print(response.json())"
      ],
      "metadata": {
        "colab": {
          "base_uri": "https://localhost:8080/"
        },
        "id": "aEQ0NaUEiojb",
        "outputId": "2a96ef7d-d42e-4855-c931-8185c0934dbd"
      },
      "execution_count": null,
      "outputs": [
        {
          "output_type": "stream",
          "name": "stdout",
          "text": [
            "https://tonapi.io/v1/blockchain/getTransactions\n",
            "{'transactions': [{'account': {'address': '0:2f99cf685673af2c595402078d999359a0a78383dbd3122010c4d170fade6687', 'is_scam': False}, 'data': 'b5ee9c720102060100015f0003b372f99cf685673af2c595402078d999359a0a78383dbd3122010c4d170fade668700001e5320d5c783bc8aa15e77674dfb8c8377523ed41f72e26d4e81314a744d645322efe3b80a1a00001e50f06ea503638a61f2000004023880104050101a00201b1480167522fb9a3d91fd785e89d733356e6bf0316c735bb9a1062d32193cb9622de29000be673da159cebcb16550081e36664d66829e0e0f6f4c4880431345c3eb799a1d0ee6b280006233ce800003ca641ab8f04c714c3e4c003009e00000000d0a1d0bfd0b0d181d0b8d0b1d0be20d0b7d0b020d183d180d0bed0bad0b82c20d18dd182d0be20d09bd183d187d188d0b8d0b520d0b3d0b0d0b9d0b4d18b20d0bfd0be20d182d0bed0bd210082728704397af0418b054a0a8cf3c13e7465d8ea57f98df794628d28c0de0319748a48965beb0da0698cbb9a9b30cbdd7c112e91f713c4a15f9c099d1fbec1e39fc400130c8047090ee6b2800120', 'fee': 284, 'hash': '3fe607c8115d255b4e3d794a82086cc6e9b617171d607d20decfe3a5dca243c8', 'in_msg': {'created_lt': 33342382000002, 'destination': {'address': '0:2f99cf685673af2c595402078d999359a0a78383dbd3122010c4d170fade6687', 'is_scam': False}, 'fwd_fee': 1154676, 'ihr_fee': 0, 'msg_data': 'AAAAANCh0L/QsNGB0LjQsdC+INC30LAg0YPRgNC+0LrQuCwg0Y3RgtC+INCb0YPRh9GI0LjQtSDQs9Cw0LnQtNGLINC/0L4g0YLQvtC9IQ==', 'source': {'address': '0:b3a917dcd1ec8febc2f44eb999ab735f818b639addcd08316990c9e5cb116f14', 'icon': '', 'is_scam': False, 'name': 'toncoingrave.ton'}, 'value': 1000000000}, 'lt': 33342382000003, 'other_fee': 0, 'out_msgs': [], 'storage_fee': 284, 'utime': 1670013426}]}\n"
          ]
        }
      ]
    },
    {
      "cell_type": "markdown",
      "source": [
        "Get the sender's bounceable address"
      ],
      "metadata": {
        "id": "puZ89jiFk8AD"
      }
    },
    {
      "cell_type": "code",
      "source": [
        "# params\n",
        "data = {'account' : '0:b3a917dcd1ec8febc2f44eb999ab735f818b639addcd08316990c9e5cb116f14'}\n",
        "\n",
        "method = 'getInfo'\n",
        "pref= 'account'\n",
        "\n",
        "url = 'https://tonapi.io/v1/{}/{}'.format(pref,method)\n",
        "print(url)\n",
        "response = requests.get(url, params=data, headers=headers_data)\n",
        "print(response.json()['address']['bounceable'])"
      ],
      "metadata": {
        "colab": {
          "base_uri": "https://localhost:8080/"
        },
        "id": "Z2g2AcNyktCU",
        "outputId": "cd5c9905-ed46-4125-9ade-f3e2a01ba523"
      },
      "execution_count": null,
      "outputs": [
        {
          "output_type": "stream",
          "name": "stdout",
          "text": [
            "https://tonapi.io/v1/account/getInfo\n",
            "EQCzqRfc0eyP68L0TrmZq3NfgYtjmt3NCDFpkMnlyxFvFBG9\n"
          ]
        }
      ]
    },
    {
      "cell_type": "markdown",
      "source": [
        "  Querying Individual Transactions"
      ],
      "metadata": {
        "id": "7kprLORElYN0"
      }
    },
    {
      "cell_type": "code",
      "source": [
        "# params\n",
        "data = {'hash' : '3fe607c8115d255b4e3d794a82086cc6e9b617171d607d20decfe3a5dca243c8'}\n",
        "\n",
        "method = 'getTransaction'\n",
        "pref= 'blockchain'\n",
        "\n",
        "url = 'https://tonapi.io/v1/{}/{}'.format(pref,method)\n",
        "print(url)\n",
        "response = requests.get(url, params=data, headers=headers_data)\n",
        "print(response.json())"
      ],
      "metadata": {
        "colab": {
          "base_uri": "https://localhost:8080/"
        },
        "id": "XZ8kU4AXlvMs",
        "outputId": "b6f2e4a3-b504-4800-c612-016286d33cd3"
      },
      "execution_count": null,
      "outputs": [
        {
          "output_type": "stream",
          "name": "stdout",
          "text": [
            "https://tonapi.io/v1/blockchain/getTransaction\n",
            "{'account': {'address': '0:2f99cf685673af2c595402078d999359a0a78383dbd3122010c4d170fade6687', 'is_scam': False}, 'data': 'b5ee9c720102060100015f0003b372f99cf685673af2c595402078d999359a0a78383dbd3122010c4d170fade668700001e5320d5c783bc8aa15e77674dfb8c8377523ed41f72e26d4e81314a744d645322efe3b80a1a00001e50f06ea503638a61f2000004023880104050101a00201b1480167522fb9a3d91fd785e89d733356e6bf0316c735bb9a1062d32193cb9622de29000be673da159cebcb16550081e36664d66829e0e0f6f4c4880431345c3eb799a1d0ee6b280006233ce800003ca641ab8f04c714c3e4c003009e00000000d0a1d0bfd0b0d181d0b8d0b1d0be20d0b7d0b020d183d180d0bed0bad0b82c20d18dd182d0be20d09bd183d187d188d0b8d0b520d0b3d0b0d0b9d0b4d18b20d0bfd0be20d182d0bed0bd210082728704397af0418b054a0a8cf3c13e7465d8ea57f98df794628d28c0de0319748a48965beb0da0698cbb9a9b30cbdd7c112e91f713c4a15f9c099d1fbec1e39fc400130c8047090ee6b2800120', 'fee': 284, 'hash': '3fe607c8115d255b4e3d794a82086cc6e9b617171d607d20decfe3a5dca243c8', 'in_msg': {'created_lt': 33342382000002, 'destination': {'address': '0:2f99cf685673af2c595402078d999359a0a78383dbd3122010c4d170fade6687', 'is_scam': False}, 'fwd_fee': 1154676, 'ihr_fee': 0, 'msg_data': 'AAAAANCh0L/QsNGB0LjQsdC+INC30LAg0YPRgNC+0LrQuCwg0Y3RgtC+INCb0YPRh9GI0LjQtSDQs9Cw0LnQtNGLINC/0L4g0YLQvtC9IQ==', 'source': {'address': '0:b3a917dcd1ec8febc2f44eb999ab735f818b639addcd08316990c9e5cb116f14', 'icon': '', 'is_scam': False, 'name': 'toncoingrave.ton'}, 'value': 1000000000}, 'lt': 33342382000003, 'other_fee': 0, 'out_msgs': [], 'storage_fee': 284, 'utime': 1670013426}\n"
          ]
        }
      ]
    },
    {
      "cell_type": "markdown",
      "source": [
        "  Analyze Domain Auction"
      ],
      "metadata": {
        "id": "WXF2f1Ffj98j"
      }
    },
    {
      "cell_type": "markdown",
      "source": [
        "Take all auction by domain"
      ],
      "metadata": {
        "id": "SrOpEnrpl8Dk"
      }
    },
    {
      "cell_type": "code",
      "source": [
        "# params\n",
        "data = {'tld' : 'ton'}\n",
        "\n",
        "method = 'getCurrent'\n",
        "pref= 'auction'\n",
        "\n",
        "url = 'https://tonapi.io/v1/{}/{}'.format(pref,method)\n",
        "print(url)\n",
        "response = requests.get(url, params=data, headers=headers_data)\n",
        "print(response.json()['total'])"
      ],
      "metadata": {
        "colab": {
          "base_uri": "https://localhost:8080/"
        },
        "id": "5Lgu_6hkkAjc",
        "outputId": "9d52b9d8-b35a-4bdf-be18-1a3ee70fadf6"
      },
      "execution_count": null,
      "outputs": [
        {
          "output_type": "stream",
          "name": "stdout",
          "text": [
            "https://tonapi.io/v1/auction/getCurrent\n",
            "279\n"
          ]
        }
      ]
    },
    {
      "cell_type": "markdown",
      "source": [
        "Get domain bids"
      ],
      "metadata": {
        "id": "9klJ8lP2nMNE"
      }
    },
    {
      "cell_type": "code",
      "source": [
        "print(response.json()['data'][0]['domain'])"
      ],
      "metadata": {
        "id": "E0n1rbFYnMfl",
        "colab": {
          "base_uri": "https://localhost:8080/"
        },
        "outputId": "7eb0f000-782a-4c47-ceae-aea210f3b039"
      },
      "execution_count": null,
      "outputs": [
        {
          "output_type": "stream",
          "name": "stdout",
          "text": [
            "watch-films.ton\n"
          ]
        }
      ]
    },
    {
      "cell_type": "code",
      "source": [
        "# params\n",
        "data = {'domain' : 'betcoin.ton'}\n",
        "\n",
        "method = 'getBids'\n",
        "pref= 'auction'\n",
        "\n",
        "url = 'https://tonapi.io/v1/{}/{}'.format(pref,method)\n",
        "print(url)\n",
        "response = requests.get(url, params=data, headers=headers_data)\n",
        "print(response.json())"
      ],
      "metadata": {
        "colab": {
          "base_uri": "https://localhost:8080/"
        },
        "id": "JEO7e_vXruwb",
        "outputId": "5f6ae253-998c-4735-8682-ae9e051212ae"
      },
      "execution_count": null,
      "outputs": [
        {
          "output_type": "stream",
          "name": "stdout",
          "text": [
            "https://tonapi.io/v1/auction/getBids\n",
            "{'data': [{'bidder': {'address': '0:5e6a43eeb162867945b175bb392b797b8a691dd341039f190b73da458a11a262', 'is_scam': False}, 'success': True, 'txHash': '203c5e1dd47f3516f3efb2fc745fee80a84a3545962d2fa53f262efdd2517b51', 'txTime': 1669829907, 'value': 197000000000}]}\n"
          ]
        }
      ]
    },
    {
      "cell_type": "markdown",
      "source": [
        "Analyze Jetton"
      ],
      "metadata": {
        "id": "2BjsGN0yr7Ar"
      }
    },
    {
      "cell_type": "markdown",
      "source": [
        "Jetton Metadata"
      ],
      "metadata": {
        "id": "laeIfdSGsOWr"
      }
    },
    {
      "cell_type": "code",
      "source": [
        "\n",
        "\n",
        "# params\n",
        "data = {'account' : 'EQD0vdSA_NedR9uvbgN9EikRX-suesDxGeFg69XQMavfLqIw'}\n",
        "\n",
        "method = 'getInfo'\n",
        "pref= 'jetton'\n",
        "\n",
        "url = 'https://tonapi.io/v1/{}/{}'.format(pref,method)\n",
        "print(url)\n",
        "response = requests.get(url, params=data, headers=headers_data)\n",
        "print(response.json())"
      ],
      "metadata": {
        "colab": {
          "base_uri": "https://localhost:8080/"
        },
        "id": "Lmj_op8RsCrB",
        "outputId": "4648c676-82a4-4a5a-d313-eedc33d19a27"
      },
      "execution_count": null,
      "outputs": [
        {
          "output_type": "stream",
          "name": "stdout",
          "text": [
            "https://tonapi.io/v1/jetton/getInfo\n",
            "{'metadata': {'address': '0:f4bdd480fcd79d47dbaf6e037d1229115feb2e7ac0f119e160ebd5d031abdf2e', 'decimals': 9, 'description': 'Official token of the Huebel Company', 'image': 'https://cache.tonapi.io/imgproxy/vPhDv8TBUkDFE5N74ckFuSE2FtKKjmNpL4B-Ti3gd5Q/rs:fill:200:200:1/g:no/aHR0cHM6Ly9jbG91ZGZsYXJlLWlwZnMuY29tL2lwZnMvUW1YNDdkb2RVZzFhY1hveFlEVUxXVE5mU2hYUlc1dUhyQ21vS1NVTlI5eEtRdw.webp', 'name': 'Huebel Bolt', 'social': ['https://t.me/boltlink'], 'symbol': 'BOLT'}, 'mintable': True, 'total_supply': '6000693317361000'}\n"
          ]
        }
      ]
    },
    {
      "cell_type": "markdown",
      "source": [
        "Address balance"
      ],
      "metadata": {
        "id": "wEu6bkCQtXko"
      }
    },
    {
      "cell_type": "code",
      "source": [
        "# params\n",
        "data = {'account' : 'EQC38-cbo1HivDOdH0oOzyZfTKVpSkatn1ydXJYsrg5KvLNI'}\n",
        "\n",
        "method = 'getBalances'\n",
        "pref= 'jetton'\n",
        "\n",
        "url = 'https://tonapi.io/v1/{}/{}'.format(pref,method)\n",
        "print(url)\n",
        "response = requests.get(url, params=data, headers=headers_data)\n",
        "print(response.json())"
      ],
      "metadata": {
        "colab": {
          "base_uri": "https://localhost:8080/"
        },
        "id": "zd6fkHWUtqlX",
        "outputId": "10c53e46-c737-43f9-db35-6c49b6529ec4"
      },
      "execution_count": null,
      "outputs": [
        {
          "output_type": "stream",
          "name": "stdout",
          "text": [
            "https://tonapi.io/v1/jetton/getBalances\n",
            "{'balances': [{'balance': '35000000000', 'jetton_address': '0:c4bb114e71d074c3e0845785030bf6b7eea1575610b1febdda6abce1c6ec9be9', 'metadata': {'address': '0:c4bb114e71d074c3e0845785030bf6b7eea1575610b1febdda6abce1c6ec9be9', 'decimals': 9, 'image': 'https://cache.tonapi.io/imgproxy/QNsrSuVcdPNDXWGEzOOm4DqVQbOkjb7-ETfNVEm5MbQ/rs:fill:200:200:1/g:no/aHR0cHM6Ly9wbGF5LWxoLmdvb2dsZXVzZXJjb250ZW50LmNvbS90U1VZdWVodlJuN2pNT2JsRTVWVzlMbnJ2WWIzS2ZGY2tlcl9UbWlhb1oyWTJ0amM5aElvbXV2U2g1QzFXSWNBVWNjTz13MjQwLWg0ODAtcnc.webp', 'name': 'Centimeter', 'symbol': 'CM.'}, 'wallet_address': {'address': '0:e11e10127d2f78b61fa5d1df9df9291052ea5d3e1a430133aa1a026309a18d26', 'is_scam': False}}, {'balance': '0', 'jetton_address': '0:f73465e722b7c9ee5df44109ea01bfdad066c16c5860fb99dd22bcd073a6ab9b', 'metadata': {'address': '0:f73465e722b7c9ee5df44109ea01bfdad066c16c5860fb99dd22bcd073a6ab9b', 'decimals': 9, 'name': '', 'symbol': ''}, 'wallet_address': {'address': '0:544a3f3715e9ebf61a8c21cec8aabccef97873a7526e9b6174ea11510db7ece4', 'is_scam': False}}, {'balance': '10539811577721', 'jetton_address': '0:65aac9b5e380eae928db3c8e238d9bc0d61a9320fdc2bc7a2f6c87d6fedf9208', 'metadata': {'address': '0:65aac9b5e380eae928db3c8e238d9bc0d61a9320fdc2bc7a2f6c87d6fedf9208', 'decimals': 9, 'image': 'https://cache.tonapi.io/imgproxy/jHx0m3tMBFj9z9vLy1cooH_v8DIi_2Zi43RLxyfga3g/rs:fill:200:200:1/g:no/aXBmczovL1FtU01pWHNaWU1lZndyVFEzUDZIbkRRYUNwZWNTNEVXTHBnS0s1RVgxRzhpQTg.webp', 'name': 'Scaleton', 'symbol': 'SCALE'}, 'wallet_address': {'address': '0:1fe9ee97cb48dd3732d8fd4625b105aa3036035f402c5d6fca4501f4d9ffd78e', 'is_scam': False}}, {'balance': '100000000000', 'jetton_address': '0:f02d7831fb9bca4801632d6cfafeba1caee0bdb222095b4d6515509fc969054b', 'metadata': {'address': '0:f02d7831fb9bca4801632d6cfafeba1caee0bdb222095b4d6515509fc969054b', 'decimals': 9, 'image': 'https://cache.tonapi.io/imgproxy/QXKbKAhQkLtC4tqaDUODRienEyCZZWEoGPZ4SUyq7Hc/rs:fill:200:200:1/g:no/aHR0cHM6Ly9yYXcuZ2l0aHVidXNlcmNvbnRlbnQuY29tLzc3N3dhcmRlbjc3Ny9FYXN5Q2FzaC9tYWluL0lNRy0yMDIyMTAxNy1XQTAxMTEuanBn.webp', 'name': 'EasyCash ', 'symbol': 'Easy '}, 'wallet_address': {'address': '0:08b27d06c2ee70654350315fc8b6fbef44453eb24a486db66b1e38ab27ab83d8', 'is_scam': False}}, {'balance': '1985709221941', 'jetton_address': '0:f0f26bc2682d7e9196892b6685165e73b875e85c8d9491309c5536c149eaa4f4', 'metadata': {'address': '0:f0f26bc2682d7e9196892b6685165e73b875e85c8d9491309c5536c149eaa4f4', 'decimals': 9, 'image': 'https://cache.tonapi.io/imgproxy/SNyaNJuHB3tC2V92sEHXbD5gzXjwN17dhFLxUd9Xp4U/rs:fill:200:200:1/g:no/aHR0cHM6Ly9pcGZzLmlvL2lwZnMvUW1RSFV6Tk5vaFBacG8ySmR1VzNkNlRtano5VndpVlFITUZERkhoc0R0QldVTA.webp', 'name': 'KittyCoin for TonSwap tests', 'symbol': 'KIT'}, 'wallet_address': {'address': '0:25e05d00adf335c385e5db4a35cb1666e7d68eb5e4d21240f5a08a6b3ff5663d', 'is_scam': False}}, {'balance': '411784225755315', 'jetton_address': '0:f4bdd480fcd79d47dbaf6e037d1229115feb2e7ac0f119e160ebd5d031abdf2e', 'metadata': {'address': '0:f4bdd480fcd79d47dbaf6e037d1229115feb2e7ac0f119e160ebd5d031abdf2e', 'decimals': 9, 'image': 'https://cache.tonapi.io/imgproxy/vPhDv8TBUkDFE5N74ckFuSE2FtKKjmNpL4B-Ti3gd5Q/rs:fill:200:200:1/g:no/aHR0cHM6Ly9jbG91ZGZsYXJlLWlwZnMuY29tL2lwZnMvUW1YNDdkb2RVZzFhY1hveFlEVUxXVE5mU2hYUlc1dUhyQ21vS1NVTlI5eEtRdw.webp', 'name': 'Huebel Bolt', 'symbol': 'BOLT'}, 'wallet_address': {'address': '0:9663777d0ef02ade91f8000095ecba867638fa0797139d6f5a268d52a7fce80f', 'is_scam': False}}, {'balance': '3333', 'jetton_address': '0:6553fb4a2128297a978c153f6ddf14c37a2566a36e5d5bfe2f50e97a8c877f04', 'metadata': {'address': '0:6553fb4a2128297a978c153f6ddf14c37a2566a36e5d5bfe2f50e97a8c877f04', 'decimals': 9, 'image': 'https://cache.tonapi.io/imgproxy/QmWqZ9LkQoq6UPNmhUGrtGj4Cfeb38e_mxgzEeerAm8/rs:fill:200:200:1/g:no/aHR0cHM6Ly9rb3RlY29pbi5jb20vY29pbi5wbmc.webp', 'name': 'Kote Coin', 'symbol': 'KOTE'}, 'wallet_address': {'address': '0:6acdec1d88cd03e7f67c45c9834a08f2ee74460c45c7d940de3cc4ea8ad56f46', 'is_scam': False}}]}\n"
          ]
        }
      ]
    },
    {
      "cell_type": "code",
      "source": [
        "#not in pythonic style for educational purposes\n",
        "for item  in response.json()['balances']:\n",
        "  print(item['metadata']['name'])"
      ],
      "metadata": {
        "colab": {
          "base_uri": "https://localhost:8080/"
        },
        "id": "BXLPOJUbt2bb",
        "outputId": "2ca2eeb7-ab9d-4eee-bd1f-9224ff26951e"
      },
      "execution_count": null,
      "outputs": [
        {
          "output_type": "stream",
          "name": "stdout",
          "text": [
            "Centimeter\n",
            "\n",
            "Scaleton\n",
            "EasyCash \n",
            "KittyCoin for TonSwap tests\n",
            "Huebel Bolt\n",
            "Kote Coin\n"
          ]
        }
      ]
    },
    {
      "cell_type": "markdown",
      "source": [
        "Jetton history"
      ],
      "metadata": {
        "id": "K2s5a2dCuv2a"
      }
    },
    {
      "cell_type": "code",
      "source": [
        "# params\n",
        "data = {'account' : 'EQD0vdSA_NedR9uvbgN9EikRX-suesDxGeFg69XQMavfLqIw','jetton_master':'EQD0vdSA_NedR9uvbgN9EikRX-suesDxGeFg69XQMavfLqIw','limit': 1}\n",
        "\n",
        "method = 'getHistory'\n",
        "pref= 'jetton'\n",
        "\n",
        "url = 'https://tonapi.io/v1/{}/{}'.format(pref,method)\n",
        "print(url)\n",
        "response = requests.get(url, params=data, headers=headers_data)\n",
        "print(response.json())"
      ],
      "metadata": {
        "colab": {
          "base_uri": "https://localhost:8080/"
        },
        "id": "bW11SxRMurz0",
        "outputId": "7004e2a7-259e-4c37-9650-94c5008d1cf5"
      },
      "execution_count": null,
      "outputs": [
        {
          "output_type": "stream",
          "name": "stdout",
          "text": [
            "https://tonapi.io/v1/jetton/getHistory\n",
            "{'events': [{'account': {'address': '0:f4bdd480fcd79d47dbaf6e037d1229115feb2e7ac0f119e160ebd5d031abdf2e', 'icon': '', 'is_scam': False, 'name': 'Huebel Bolt'}, 'actions': [{'simple_preview': {'full_description': '', 'name': '', 'short_description': ''}, 'status': 'ok', 'type': 'Unknown'}], 'event_id': '84f18036840ebbdd5ec9f46a516be6b547f8d1c9765fb4ac56e1c202715b2250', 'fee': {'account': {'address': '', 'is_scam': False}, 'deposit': 0, 'gas': 0, 'refund': 0, 'rent': 0, 'total': 0}, 'in_progress': False, 'is_scam': False, 'lt': 33237134000001, 'timestamp': 1669672410}]}\n"
          ]
        }
      ]
    },
    {
      "cell_type": "markdown",
      "source": [
        "NFT"
      ],
      "metadata": {
        "id": "iCvVTD8dHyv7"
      }
    },
    {
      "cell_type": "markdown",
      "source": [
        "NFT Collection"
      ],
      "metadata": {
        "id": "zEbDiYiBH0ad"
      }
    },
    {
      "cell_type": "code",
      "source": [
        "# params\n",
        "data = {'account' : 'EQCA14o1-VWhS2efqoh_9M1b_A9DtKTuoqfmkn83AbJzwnPi'}\n",
        "\n",
        "method = 'getCollection'\n",
        "pref= 'nft'\n",
        "\n",
        "url = 'https://tonapi.io/v1/{}/{}'.format(pref,method)\n",
        "print(url)\n",
        "response = requests.get(url, params=data, headers=headers_data)\n",
        "print(response.json())"
      ],
      "metadata": {
        "colab": {
          "base_uri": "https://localhost:8080/"
        },
        "id": "wP65eXO3Dm5Q",
        "outputId": "d7e815c3-3919-461e-a5b8-886fdf928b07"
      },
      "execution_count": null,
      "outputs": [
        {
          "output_type": "stream",
          "name": "stdout",
          "text": [
            "https://tonapi.io/v1/nft/getCollection\n",
            "{'address': '0:80d78a35f955a14b679faa887ff4cd5bfc0f43b4a4eea2a7e6927f3701b273c2', 'metadata': {'description': 'Unique addresses in Telegram’s ecosystem of more than 700 million active users.', 'external_link': 'https://fragment.com/', 'image': 'https://nft.fragment.com/usernames.svg', 'name': 'Telegram Usernames'}, 'next_item_index': 1, 'raw_collection_content': '68747470733a2f2f6e66742e667261676d656e742e636f6d2f757365726e616d65732e6a736f6e'}\n"
          ]
        }
      ]
    },
    {
      "cell_type": "markdown",
      "source": [
        "NFT Item"
      ],
      "metadata": {
        "id": "ov51EHP0TLVh"
      }
    },
    {
      "cell_type": "code",
      "source": [
        "# params\n",
        "data = {'addresses' : 'EQA5WX3EjeUPntk2CpPlfqIgnt4VfzlLhCIJ7WPm6B3V09WI'}\n",
        "\n",
        "method = 'getItems'\n",
        "pref= 'nft'\n",
        "\n",
        "url = 'https://tonapi.io/v1/{}/{}'.format(pref,method)\n",
        "print(url)\n",
        "response = requests.get(url, params=data, headers=headers_data)\n",
        "print(response.json())"
      ],
      "metadata": {
        "colab": {
          "base_uri": "https://localhost:8080/"
        },
        "id": "ltBTgYekTD0a",
        "outputId": "9e190614-3e7e-48a4-cf8a-17b3a8ac67c2"
      },
      "execution_count": null,
      "outputs": [
        {
          "output_type": "stream",
          "name": "stdout",
          "text": [
            "https://tonapi.io/v1/nft/getItems\n",
            "{'nft_items': [{'address': '0:39597dc48de50f9ed9360a93e57ea2209ede157f394b842209ed63e6e81dd5d3', 'approved_by': ['tonkeeper'], 'collection': {'address': '0:80d78a35f955a14b679faa887ff4cd5bfc0f43b4a4eea2a7e6927f3701b273c2', 'name': 'Telegram Usernames'}, 'collection_address': '0:80d78a35f955a14b679faa887ff4cd5bfc0f43b4a4eea2a7e6927f3701b273c2', 'dns': 'gold.t.me', 'index': -1346097859394780461, 'metadata': {'description': 'The @gold username and address in the Telegram ecosystem. Aliases: gold.t.me, t.me/gold', 'image': 'https://nft.fragment.com/username/gold.webp', 'name': 'gold'}, 'owner': {'address': '-1:1a72904099f4e89eeda47d78f1eea3fb7043ea6cb3e6e56f278955da40e8d5d3', 'is_scam': False}, 'previews': [{'resolution': '100x100', 'url': 'https://cache.tonapi.io/imgproxy/mtKu9o5YL7uPmaxSkLdrfSlOnFdmoWa8S_-32pVj65A/rs:fill:100:100:1/g:no/aHR0cHM6Ly9uZnQuZnJhZ21lbnQuY29tL3VzZXJuYW1lL2dvbGQud2VicA.webp'}, {'resolution': '500x500', 'url': 'https://cache.tonapi.io/imgproxy/inGrQ7W5-C4XorOR6F5pBcx3jRdeMOCQDzfHCA264sU/rs:fill:500:500:1/g:no/aHR0cHM6Ly9uZnQuZnJhZ21lbnQuY29tL3VzZXJuYW1lL2dvbGQud2VicA.webp'}, {'resolution': '1500x1500', 'url': 'https://cache.tonapi.io/imgproxy/L-eAZLLVvlZk2-SEFspHLHkBa1fSnD-TpqhqL8QKiFY/rs:fill:1500:1500:1/g:no/aHR0cHM6Ly9uZnQuZnJhZ21lbnQuY29tL3VzZXJuYW1lL2dvbGQud2VicA.webp'}], 'verified': True}]}\n"
          ]
        }
      ]
    },
    {
      "cell_type": "code",
      "source": [
        "response.json()['nft_items'][0]['metadata']"
      ],
      "metadata": {
        "colab": {
          "base_uri": "https://localhost:8080/"
        },
        "id": "RD1vXmNaqQSC",
        "outputId": "0900cb0a-55af-4706-80f2-0c6ad6db5fa3"
      },
      "execution_count": null,
      "outputs": [
        {
          "output_type": "execute_result",
          "data": {
            "text/plain": [
              "{'description': 'The @gold username and address in the Telegram ecosystem. Aliases: gold.t.me, t.me/gold',\n",
              " 'image': 'https://nft.fragment.com/username/gold.webp',\n",
              " 'name': 'gold'}"
            ]
          },
          "metadata": {},
          "execution_count": 54
        }
      ]
    },
    {
      "cell_type": "markdown",
      "source": [
        "Items on account"
      ],
      "metadata": {
        "id": "oydpgageWxRZ"
      }
    },
    {
      "cell_type": "code",
      "source": [
        "# params\n",
        "data = {'owner' : 'EQDyBC20fBqrPFEgG088izaeQOgw1ZsWTTuqp7Jo2d1Kz4tQ','collection' :'UQAaLmbRimQRuYx3UkLTv8TTgDfUL-ZIyiFCGeDb4lE06ktW','limit': 10,'offset': 1}\n",
        "\n",
        "method = 'searchItems'\n",
        "pref= 'nft'\n",
        "\n",
        "url = 'https://tonapi.io/v1/{}/{}'.format(pref,method)\n",
        "print(url)\n",
        "response = requests.get(url, params=data, headers=headers_data)\n",
        "print(response.json())"
      ],
      "metadata": {
        "colab": {
          "base_uri": "https://localhost:8080/"
        },
        "id": "mAAGYMPyWsf2",
        "outputId": "ee997fa6-66d2-495d-a23b-103a44e743ec"
      },
      "execution_count": null,
      "outputs": [
        {
          "output_type": "stream",
          "name": "stdout",
          "text": [
            "https://tonapi.io/v1/nft/searchItems\n",
            "{'nft_items': [{'address': '0:fa2b4091d69dd0ed6c926ce20a8632c9320eaf25887526524fdbf5212995992c', 'approved_by': None, 'collection': {'address': '0:1a2e66d18a6411b98c775242d3bfc4d38037d42fe648ca214219e0dbe25134ea', 'name': 'CatHelp NFT'}, 'collection_address': '0:1a2e66d18a6411b98c775242d3bfc4d38037d42fe648ca214219e0dbe25134ea', 'index': 583, 'metadata': {'name': 'CatHelp NFT #1621', 'description': 'NFT to help homeless animals!', 'image': 'https://cloudflare-ipfs.com/ipfs/bafybeibznqqbomvf2klkyjpdcb3mtc37veo24kw4oyejuuwbicgn5yzeqm/1621.png'}, 'owner': {'address': '0:f2042db47c1aab3c51201b4f3c8b369e40e830d59b164d3baaa7b268d9dd4acf', 'is_scam': False}, 'previews': [{'resolution': '100x100', 'url': 'https://cache.tonapi.io/imgproxy/shvsHarPAXmPN66EplGB2ldXumdv3DKXsc4K5VOCYms/rs:fill:100:100:1/g:no/aHR0cHM6Ly9jbG91ZGZsYXJlLWlwZnMuY29tL2lwZnMvYmFmeWJlaWJ6bnFxYm9tdmYya2xreWpwZGNiM210YzM3dmVvMjRrdzRveWVqdXV3YmljZ241eXplcW0vMTYyMS5wbmc.webp'}, {'resolution': '500x500', 'url': 'https://cache.tonapi.io/imgproxy/E7q3bEqAHO8Vp-BtzYELdCl9VmfWkhMVW-66XtFV43E/rs:fill:500:500:1/g:no/aHR0cHM6Ly9jbG91ZGZsYXJlLWlwZnMuY29tL2lwZnMvYmFmeWJlaWJ6bnFxYm9tdmYya2xreWpwZGNiM210YzM3dmVvMjRrdzRveWVqdXV3YmljZ241eXplcW0vMTYyMS5wbmc.webp'}, {'resolution': '1500x1500', 'url': 'https://cache.tonapi.io/imgproxy/OfDN_A5iNM79trkQZi08WbVdx4UF53qF8VrpMQlfMws/rs:fill:1500:1500:1/g:no/aHR0cHM6Ly9jbG91ZGZsYXJlLWlwZnMuY29tL2lwZnMvYmFmeWJlaWJ6bnFxYm9tdmYya2xreWpwZGNiM210YzM3dmVvMjRrdzRveWVqdXV3YmljZ241eXplcW0vMTYyMS5wbmc.webp'}], 'verified': True}, {'address': '0:b0e22c066ee46c1e830bfca64cfc6b66bdee2ff730b0b367847f393edfe4021f', 'approved_by': None, 'collection': {'address': '0:1a2e66d18a6411b98c775242d3bfc4d38037d42fe648ca214219e0dbe25134ea', 'name': 'CatHelp NFT'}, 'collection_address': '0:1a2e66d18a6411b98c775242d3bfc4d38037d42fe648ca214219e0dbe25134ea', 'index': 579, 'metadata': {'name': 'CatHelp NFT #1420', 'description': 'NFT to help homeless animals!', 'image': 'https://cloudflare-ipfs.com/ipfs/bafybeibznqqbomvf2klkyjpdcb3mtc37veo24kw4oyejuuwbicgn5yzeqm/1420.png'}, 'owner': {'address': '0:f2042db47c1aab3c51201b4f3c8b369e40e830d59b164d3baaa7b268d9dd4acf', 'is_scam': False}, 'previews': [{'resolution': '100x100', 'url': 'https://cache.tonapi.io/imgproxy/uHnLVE6141iy2pekPpydZEQuypLiWJHzlJ8q7GuEfZg/rs:fill:100:100:1/g:no/aHR0cHM6Ly9jbG91ZGZsYXJlLWlwZnMuY29tL2lwZnMvYmFmeWJlaWJ6bnFxYm9tdmYya2xreWpwZGNiM210YzM3dmVvMjRrdzRveWVqdXV3YmljZ241eXplcW0vMTQyMC5wbmc.webp'}, {'resolution': '500x500', 'url': 'https://cache.tonapi.io/imgproxy/qEFRwZrvSpQF7H0od-c9dfKQ0v23ePxvSkCuEOu_ohw/rs:fill:500:500:1/g:no/aHR0cHM6Ly9jbG91ZGZsYXJlLWlwZnMuY29tL2lwZnMvYmFmeWJlaWJ6bnFxYm9tdmYya2xreWpwZGNiM210YzM3dmVvMjRrdzRveWVqdXV3YmljZ241eXplcW0vMTQyMC5wbmc.webp'}, {'resolution': '1500x1500', 'url': 'https://cache.tonapi.io/imgproxy/v6AtcGwHwCBh_Iyuanvg2hinWX8DBoaLcp5z4oIMfho/rs:fill:1500:1500:1/g:no/aHR0cHM6Ly9jbG91ZGZsYXJlLWlwZnMuY29tL2lwZnMvYmFmeWJlaWJ6bnFxYm9tdmYya2xreWpwZGNiM210YzM3dmVvMjRrdzRveWVqdXV3YmljZ241eXplcW0vMTQyMC5wbmc.webp'}], 'verified': True}, {'address': '0:bbe5c60d7cdfa03c3667ce5150a2c06d063d6dd9dbfdc80f3f4bf960d8d738c8', 'approved_by': None, 'collection': {'address': '0:1a2e66d18a6411b98c775242d3bfc4d38037d42fe648ca214219e0dbe25134ea', 'name': 'CatHelp NFT'}, 'collection_address': '0:1a2e66d18a6411b98c775242d3bfc4d38037d42fe648ca214219e0dbe25134ea', 'index': 558, 'metadata': {'name': 'CatHelp NFT #1543', 'description': 'NFT to help homeless animals!', 'image': 'https://cloudflare-ipfs.com/ipfs/bafybeibznqqbomvf2klkyjpdcb3mtc37veo24kw4oyejuuwbicgn5yzeqm/1543.png'}, 'owner': {'address': '0:f2042db47c1aab3c51201b4f3c8b369e40e830d59b164d3baaa7b268d9dd4acf', 'is_scam': False}, 'previews': [{'resolution': '100x100', 'url': 'https://cache.tonapi.io/imgproxy/x-gtw78RTGJ4JEDd8_KaMEYu6wbYnFtQEvtQJ4OZRF0/rs:fill:100:100:1/g:no/aHR0cHM6Ly9jbG91ZGZsYXJlLWlwZnMuY29tL2lwZnMvYmFmeWJlaWJ6bnFxYm9tdmYya2xreWpwZGNiM210YzM3dmVvMjRrdzRveWVqdXV3YmljZ241eXplcW0vMTU0My5wbmc.webp'}, {'resolution': '500x500', 'url': 'https://cache.tonapi.io/imgproxy/h1aR0yUqJjbrmN6nQwG9CCM2tIwGM9uL86FCMRWlzSA/rs:fill:500:500:1/g:no/aHR0cHM6Ly9jbG91ZGZsYXJlLWlwZnMuY29tL2lwZnMvYmFmeWJlaWJ6bnFxYm9tdmYya2xreWpwZGNiM210YzM3dmVvMjRrdzRveWVqdXV3YmljZ241eXplcW0vMTU0My5wbmc.webp'}, {'resolution': '1500x1500', 'url': 'https://cache.tonapi.io/imgproxy/xkA-oDOwoT-c9zWuwG1-8tNXDjGUM-fSh3i4v0YbTZY/rs:fill:1500:1500:1/g:no/aHR0cHM6Ly9jbG91ZGZsYXJlLWlwZnMuY29tL2lwZnMvYmFmeWJlaWJ6bnFxYm9tdmYya2xreWpwZGNiM210YzM3dmVvMjRrdzRveWVqdXV3YmljZ241eXplcW0vMTU0My5wbmc.webp'}], 'verified': True}, {'address': '0:cbf149e703929f878067843c7e6bf14abf783a8da06bb6a2507433c4162d8575', 'approved_by': None, 'collection': {'address': '0:1a2e66d18a6411b98c775242d3bfc4d38037d42fe648ca214219e0dbe25134ea', 'name': 'CatHelp NFT'}, 'collection_address': '0:1a2e66d18a6411b98c775242d3bfc4d38037d42fe648ca214219e0dbe25134ea', 'index': 534, 'metadata': {'name': 'CatHelp NFT #1389', 'description': 'NFT to help homeless animals!', 'image': 'https://cloudflare-ipfs.com/ipfs/bafybeibznqqbomvf2klkyjpdcb3mtc37veo24kw4oyejuuwbicgn5yzeqm/1389.png'}, 'owner': {'address': '0:f2042db47c1aab3c51201b4f3c8b369e40e830d59b164d3baaa7b268d9dd4acf', 'is_scam': False}, 'previews': [{'resolution': '100x100', 'url': 'https://cache.tonapi.io/imgproxy/1kPqZjzmM2IkuyL6uiQpsZpT54DnB8h3sdKG8UFLCW8/rs:fill:100:100:1/g:no/aHR0cHM6Ly9jbG91ZGZsYXJlLWlwZnMuY29tL2lwZnMvYmFmeWJlaWJ6bnFxYm9tdmYya2xreWpwZGNiM210YzM3dmVvMjRrdzRveWVqdXV3YmljZ241eXplcW0vMTM4OS5wbmc.webp'}, {'resolution': '500x500', 'url': 'https://cache.tonapi.io/imgproxy/GoPg2I_KPAa7uwSqu_Y4QbMk0PyOLofnVhIZkvLy9Ls/rs:fill:500:500:1/g:no/aHR0cHM6Ly9jbG91ZGZsYXJlLWlwZnMuY29tL2lwZnMvYmFmeWJlaWJ6bnFxYm9tdmYya2xreWpwZGNiM210YzM3dmVvMjRrdzRveWVqdXV3YmljZ241eXplcW0vMTM4OS5wbmc.webp'}, {'resolution': '1500x1500', 'url': 'https://cache.tonapi.io/imgproxy/_LCgJ3UCD-BYVVlgkvQMi0Nki8WrIjvpHmMPLHgU-Iw/rs:fill:1500:1500:1/g:no/aHR0cHM6Ly9jbG91ZGZsYXJlLWlwZnMuY29tL2lwZnMvYmFmeWJlaWJ6bnFxYm9tdmYya2xreWpwZGNiM210YzM3dmVvMjRrdzRveWVqdXV3YmljZ241eXplcW0vMTM4OS5wbmc.webp'}], 'verified': True}, {'address': '0:a050fd9eaed5d0cd4137b767caa7edd02679a896299f1aef991e0a1b74f12e7b', 'approved_by': None, 'collection': {'address': '0:1a2e66d18a6411b98c775242d3bfc4d38037d42fe648ca214219e0dbe25134ea', 'name': 'CatHelp NFT'}, 'collection_address': '0:1a2e66d18a6411b98c775242d3bfc4d38037d42fe648ca214219e0dbe25134ea', 'index': 520, 'metadata': {'name': 'CatHelp NFT #1604', 'description': 'NFT to help homeless animals!', 'image': 'https://cloudflare-ipfs.com/ipfs/bafybeibznqqbomvf2klkyjpdcb3mtc37veo24kw4oyejuuwbicgn5yzeqm/1604.png'}, 'owner': {'address': '0:f2042db47c1aab3c51201b4f3c8b369e40e830d59b164d3baaa7b268d9dd4acf', 'is_scam': False}, 'previews': [{'resolution': '100x100', 'url': 'https://cache.tonapi.io/imgproxy/EtTb8s6ZMvI2Gl5ypic_-FGOc6zIszFf_1MbXjeAv-A/rs:fill:100:100:1/g:no/aHR0cHM6Ly9jbG91ZGZsYXJlLWlwZnMuY29tL2lwZnMvYmFmeWJlaWJ6bnFxYm9tdmYya2xreWpwZGNiM210YzM3dmVvMjRrdzRveWVqdXV3YmljZ241eXplcW0vMTYwNC5wbmc.webp'}, {'resolution': '500x500', 'url': 'https://cache.tonapi.io/imgproxy/r8-ToV_npThmL5bMsj9RJ1Xj89QTFs68ajH-vmlz4A0/rs:fill:500:500:1/g:no/aHR0cHM6Ly9jbG91ZGZsYXJlLWlwZnMuY29tL2lwZnMvYmFmeWJlaWJ6bnFxYm9tdmYya2xreWpwZGNiM210YzM3dmVvMjRrdzRveWVqdXV3YmljZ241eXplcW0vMTYwNC5wbmc.webp'}, {'resolution': '1500x1500', 'url': 'https://cache.tonapi.io/imgproxy/OO3LrzVPJFz2nZ550y0qR1XpbkA5N2Dkj3IyA55Pm90/rs:fill:1500:1500:1/g:no/aHR0cHM6Ly9jbG91ZGZsYXJlLWlwZnMuY29tL2lwZnMvYmFmeWJlaWJ6bnFxYm9tdmYya2xreWpwZGNiM210YzM3dmVvMjRrdzRveWVqdXV3YmljZ241eXplcW0vMTYwNC5wbmc.webp'}], 'verified': True}, {'address': '0:2e89bb903859c59d5f6105a1ec44940ae46fa5d90218ee3dc965618981f196ac', 'approved_by': None, 'collection': {'address': '0:1a2e66d18a6411b98c775242d3bfc4d38037d42fe648ca214219e0dbe25134ea', 'name': 'CatHelp NFT'}, 'collection_address': '0:1a2e66d18a6411b98c775242d3bfc4d38037d42fe648ca214219e0dbe25134ea', 'index': 513, 'metadata': {'name': 'CatHelp NFT #1496', 'description': 'NFT to help homeless animals!', 'image': 'https://cloudflare-ipfs.com/ipfs/bafybeibznqqbomvf2klkyjpdcb3mtc37veo24kw4oyejuuwbicgn5yzeqm/1496.png'}, 'owner': {'address': '0:f2042db47c1aab3c51201b4f3c8b369e40e830d59b164d3baaa7b268d9dd4acf', 'is_scam': False}, 'previews': [{'resolution': '100x100', 'url': 'https://cache.tonapi.io/imgproxy/tCxznKsDdiOLeLKE9gHEROcTwecEgrNUr9PCBtZN5xA/rs:fill:100:100:1/g:no/aHR0cHM6Ly9jbG91ZGZsYXJlLWlwZnMuY29tL2lwZnMvYmFmeWJlaWJ6bnFxYm9tdmYya2xreWpwZGNiM210YzM3dmVvMjRrdzRveWVqdXV3YmljZ241eXplcW0vMTQ5Ni5wbmc.webp'}, {'resolution': '500x500', 'url': 'https://cache.tonapi.io/imgproxy/oGUo7iXWbhZzJGPCtRkS6dqVZp_GuZO3vHZeeA6Od6E/rs:fill:500:500:1/g:no/aHR0cHM6Ly9jbG91ZGZsYXJlLWlwZnMuY29tL2lwZnMvYmFmeWJlaWJ6bnFxYm9tdmYya2xreWpwZGNiM210YzM3dmVvMjRrdzRveWVqdXV3YmljZ241eXplcW0vMTQ5Ni5wbmc.webp'}, {'resolution': '1500x1500', 'url': 'https://cache.tonapi.io/imgproxy/R8bmLDkfB1bT4XhxDW8mlWqCKopG3yShOOy5kG9K98k/rs:fill:1500:1500:1/g:no/aHR0cHM6Ly9jbG91ZGZsYXJlLWlwZnMuY29tL2lwZnMvYmFmeWJlaWJ6bnFxYm9tdmYya2xreWpwZGNiM210YzM3dmVvMjRrdzRveWVqdXV3YmljZ241eXplcW0vMTQ5Ni5wbmc.webp'}], 'verified': True}, {'address': '0:c6a88aa7be35525fc34fb00174934d83167b74bff62717be8eed1fe07514fa44', 'approved_by': None, 'collection': {'address': '0:1a2e66d18a6411b98c775242d3bfc4d38037d42fe648ca214219e0dbe25134ea', 'name': 'CatHelp NFT'}, 'collection_address': '0:1a2e66d18a6411b98c775242d3bfc4d38037d42fe648ca214219e0dbe25134ea', 'index': 503, 'metadata': {'name': 'CatHelp NFT #1497', 'description': 'NFT to help homeless animals!', 'image': 'https://cloudflare-ipfs.com/ipfs/bafybeibznqqbomvf2klkyjpdcb3mtc37veo24kw4oyejuuwbicgn5yzeqm/1497.png'}, 'owner': {'address': '0:f2042db47c1aab3c51201b4f3c8b369e40e830d59b164d3baaa7b268d9dd4acf', 'is_scam': False}, 'previews': [{'resolution': '100x100', 'url': 'https://cache.tonapi.io/imgproxy/lQoa7gV9DiVvXUon5YabeMi9qsQm6EZgoCl73-YvbIU/rs:fill:100:100:1/g:no/aHR0cHM6Ly9jbG91ZGZsYXJlLWlwZnMuY29tL2lwZnMvYmFmeWJlaWJ6bnFxYm9tdmYya2xreWpwZGNiM210YzM3dmVvMjRrdzRveWVqdXV3YmljZ241eXplcW0vMTQ5Ny5wbmc.webp'}, {'resolution': '500x500', 'url': 'https://cache.tonapi.io/imgproxy/KKsyHfkDSQqdS83Tv96_jec2r-VmJg2rpKkcKxtEAqo/rs:fill:500:500:1/g:no/aHR0cHM6Ly9jbG91ZGZsYXJlLWlwZnMuY29tL2lwZnMvYmFmeWJlaWJ6bnFxYm9tdmYya2xreWpwZGNiM210YzM3dmVvMjRrdzRveWVqdXV3YmljZ241eXplcW0vMTQ5Ny5wbmc.webp'}, {'resolution': '1500x1500', 'url': 'https://cache.tonapi.io/imgproxy/jVGXk7lYofaQGqGtpxVTKqBSfnTENpaql7xAWvFTKVk/rs:fill:1500:1500:1/g:no/aHR0cHM6Ly9jbG91ZGZsYXJlLWlwZnMuY29tL2lwZnMvYmFmeWJlaWJ6bnFxYm9tdmYya2xreWpwZGNiM210YzM3dmVvMjRrdzRveWVqdXV3YmljZ241eXplcW0vMTQ5Ny5wbmc.webp'}], 'verified': True}]}\n"
          ]
        }
      ]
    },
    {
      "cell_type": "code",
      "source": [
        "print(len(response.json()['nft_items']))"
      ],
      "metadata": {
        "colab": {
          "base_uri": "https://localhost:8080/"
        },
        "id": "DCbndDP8Y19v",
        "outputId": "3813df50-1b56-482d-a71b-53a6de2a0840"
      },
      "execution_count": null,
      "outputs": [
        {
          "output_type": "stream",
          "name": "stdout",
          "text": [
            "7\n"
          ]
        }
      ]
    },
    {
      "cell_type": "markdown",
      "source": [],
      "metadata": {
        "id": "Rr0yLBHHsDD4"
      }
    }
  ]
}